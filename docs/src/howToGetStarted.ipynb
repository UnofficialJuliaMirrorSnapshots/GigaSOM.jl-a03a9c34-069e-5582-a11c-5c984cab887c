{
 "cells": [
  {
   "cell_type": "markdown",
   "metadata": {},
   "source": [
    "# How to get started\n",
    "\n",
    "For the installation of Julia or GigaSOM.jl please refer to the installation instructions.\n",
    "\n",
    "## Cytometry Data\n",
    "\n",
    "In this example we will use a subset of the Cytometry data from Bodenmiller et al.\n",
    "(Bodenmiller et al., 2012). This data-set contains samples from peripheral blood\n",
    "mononuclear cells (PBMCs) in unstimulated and stimulated conditions for 8 healthy donors.\n",
    "\n",
    "10 cell surface markers (lineage markers) are used to identify different cell populations:\n",
    "    - PBMC8_panel.xlsx (with Antigen name and columns for lineage markers and functional markers)\n",
    "    - PBMC8_metadata.xlsx (file names, sample id, condition and patient id)\n",
    "\n",
    "Before running this minimum working example, make sure to use the package:"
   ]
  },
  {
   "cell_type": "code",
   "execution_count": 1,
   "metadata": {},
   "outputs": [],
   "source": [
    "using GigaSOM"
   ]
  },
  {
   "cell_type": "markdown",
   "metadata": {},
   "source": [
    "## Input and output\n",
    "\n",
    "The example data can be downloaded from [imlspenticton.uzh.ch/robinson_lab/cytofWorkflow/](http://imlspenticton.uzh.ch/robinson_lab/cytofWorkflow/)\n",
    "\n",
    "You can fetch the files directly from within Julia:"
   ]
  },
  {
   "cell_type": "code",
   "execution_count": 2,
   "metadata": {},
   "outputs": [],
   "source": [
    "# fetch the required data for testing and download the zip archive and unzip it\n",
    "dataFiles = [\"PBMC8_metadata.xlsx\", \"PBMC8_panel.xlsx\", \"PBMC8_fcs_files.zip\"]\n",
    "for f in dataFiles\n",
    "    if !isfile(f)\n",
    "        download(\"http://imlspenticton.uzh.ch/robinson_lab/cytofWorkflow/\"*f, f)\n",
    "        if occursin(\".zip\", f)\n",
    "            run(`unzip PBMC8_fcs_files.zip`)\n",
    "        end\n",
    "    end\n",
    "end"
   ]
  },
  {
   "cell_type": "markdown",
   "metadata": {},
   "source": [
    "Read meta-data and panel as a `DataFrame`, and make sure that the column names match the CyTOF\n",
    "FCS file names:"
   ]
  },
  {
   "cell_type": "code",
   "execution_count": 3,
   "metadata": {},
   "outputs": [
    {
     "name": "stderr",
     "output_type": "stream",
     "text": [
      "┌ Warning: `getindex(df::DataFrame, col_ind::ColumnIndex)` is deprecated, use `df[!, col_ind]` instead.\n",
      "│   caller = top-level scope at In[3]:4\n",
      "└ @ Core In[3]:4\n",
      "┌ Warning: `setindex!(df::DataFrame, v::AbstractVector, col_ind::ColumnIndex)` is deprecated, use `begin\n",
      "│     df[!, col_ind] = v\n",
      "│     df\n",
      "│ end` instead.\n",
      "│   caller = top-level scope at In[3]:4\n",
      "└ @ Core In[3]:4\n",
      "┌ Warning: `getindex(df::DataFrame, col_ind::ColumnIndex)` is deprecated, use `df[!, col_ind]` instead.\n",
      "│   caller = top-level scope at In[3]:5\n",
      "└ @ Core In[3]:5\n",
      "┌ Warning: `setindex!(df::DataFrame, v::AbstractVector, col_ind::ColumnIndex)` is deprecated, use `begin\n",
      "│     df[!, col_ind] = v\n",
      "│     df\n",
      "│ end` instead.\n",
      "│   caller = top-level scope at In[3]:5\n",
      "└ @ Core In[3]:5\n",
      "┌ Warning: `getindex(df::DataFrame, col_ind::ColumnIndex)` is deprecated, use `df[!, col_ind]` instead.\n",
      "│   caller = top-level scope at In[3]:6\n",
      "└ @ Core In[3]:6\n",
      "┌ Warning: `setindex!(df::DataFrame, v::AbstractVector, col_ind::ColumnIndex)` is deprecated, use `begin\n",
      "│     df[!, col_ind] = v\n",
      "│     df\n",
      "│ end` instead.\n",
      "│   caller = top-level scope at In[3]:6\n",
      "└ @ Core In[3]:6\n",
      "┌ Warning: `getindex(df::DataFrame, col_ind::ColumnIndex)` is deprecated, use `df[!, col_ind]` instead.\n",
      "│   caller = top-level scope at In[3]:8\n",
      "└ @ Core In[3]:8\n",
      "┌ Warning: `getindex(df::DataFrame, col_ind::ColumnIndex)` is deprecated, use `df[!, col_ind]` instead.\n",
      "│   caller = top-level scope at In[3]:8\n",
      "└ @ Core In[3]:8\n",
      "┌ Warning: `getindex(df::DataFrame, col_ind::ColumnIndex)` is deprecated, use `df[!, col_ind]` instead.\n",
      "│   caller = top-level scope at In[3]:8\n",
      "└ @ Core In[3]:8\n"
     ]
    },
    {
     "name": "stdout",
     "output_type": "stream",
     "text": [
      "[\"CD3(110:114)Dd\", \"CD45(In115)Dd\", \"BC1(La139)Dd\", \"BC2(Pr141)Dd\", \"pNFkB(Nd142)Dd\", \"pp38(Nd144)Dd\", \"CD4(Nd145)Dd\", \"BC3(Nd146)Dd\", \"CD20(Sm147)Dd\", \"CD33(Nd148)Dd\", \"pStat5(Nd150)Dd\", \"CD123(Eu151)Dd\", \"pAkt(Sm152)Dd\", \"pStat1(Eu153)Dd\", \"pSHP2(Sm154)Dd\", \"pZap70(Gd156)Dd\", \"pStat3(Gd158)Dd\", \"BC4(Tb159)Dd\", \"CD14(Gd160)Dd\", \"pSlp76(Dy164)Dd\", \"BC5(Ho165)Dd\", \"pBtk(Er166)Dd\", \"pPlcg2(Er167)Dd\", \"pErk(Er168)Dd\", \"BC6(Tm169)Dd\", \"pLat(Er170)Dd\", \"IgM(Yb171)Dd\", \"pS6(Yb172)Dd\", \"HLA-DR(Yb174)Dd\", \"BC7(Lu175)Dd\", \"CD7(Yb176)Dd\", \"DNA-1(Ir191)Dd\", \"DNA-2(Ir193)Dd\"]"
     ]
    }
   ],
   "source": [
    "# Read  files as DataFrames\n",
    "md = GigaSOM.DataFrame(GigaSOM.XLSX.readtable(\"PBMC8_metadata.xlsx\", \"Sheet1\")...)\n",
    "panel = GigaSOM.DataFrame(GigaSOM.XLSX.readtable(\"PBMC8_panel.xlsx\", \"Sheet1\")...)\n",
    "panel[:Isotope] = map(string, panel[:Isotope])\n",
    "panel[:Metal] = map(string, panel[:Metal])\n",
    "panel[:Antigen] = map(string, panel[:Antigen])\n",
    "panel.Metal[1]=\"\"\n",
    "GigaSOM.insertcols!(panel,4,:fcs_colname => map((x,y,z)->x.*\"(\".*y.*z.*\")\".*\"Dd\",panel[:Antigen],panel[:Metal],panel[:Isotope]))\n",
    "print(panel.fcs_colname)"
   ]
  },
  {
   "cell_type": "markdown",
   "metadata": {},
   "source": [
    "Extract the lineage and functional markers with `getMarkers()` function:"
   ]
  },
  {
   "cell_type": "code",
   "execution_count": 4,
   "metadata": {},
   "outputs": [
    {
     "data": {
      "text/plain": [
       "([\"CD3(110:114)Dd\", \"CD45(In115)Dd\", \"CD4(Nd145)Dd\", \"CD20(Sm147)Dd\", \"CD33(Nd148)Dd\", \"CD123(Eu151)Dd\", \"CD14(Gd160)Dd\", \"IgM(Yb171)Dd\", \"HLA_DR(Yb174)Dd\", \"CD7(Yb176)Dd\"], [\"pNFkB(Nd142)Dd\", \"pp38(Nd144)Dd\", \"pStat5(Nd150)Dd\", \"pAkt(Sm152)Dd\", \"pStat1(Eu153)Dd\", \"pSHP2(Sm154)Dd\", \"pZap70(Gd156)Dd\", \"pStat3(Gd158)Dd\", \"pSlp76(Dy164)Dd\", \"pBtk(Er166)Dd\", \"pPlcg2(Er167)Dd\", \"pErk(Er168)Dd\", \"pLat(Er170)Dd\", \"pS6(Yb172)Dd\"])"
      ]
     },
     "execution_count": 4,
     "metadata": {},
     "output_type": "execute_result"
    }
   ],
   "source": [
    "lineageMarkers, functionalMarkers = getMarkers(panel)"
   ]
  },
  {
   "cell_type": "markdown",
   "metadata": {},
   "source": [
    "Read FCS files `readFlowset()`:"
   ]
  },
  {
   "cell_type": "code",
   "execution_count": 5,
   "metadata": {},
   "outputs": [
    {
     "data": {
      "text/plain": [
       "Dict{Any,Any} with 16 entries:\n",
       "  \"PBMC8_30min_patient8_Reference.fcs\" => 13670×35 DataFrames.DataFrame. Omitte…\n",
       "  \"PBMC8_30min_patient2_BCR-XL.fcs\"    => 16675×35 DataFrames.DataFrame. Omitte…\n",
       "  \"PBMC8_30min_patient5_BCR-XL.fcs\"    => 8543×35 DataFrames.DataFrame. Omitted…\n",
       "  \"PBMC8_30min_patient1_Reference.fcs\" => 2739×35 DataFrames.DataFrame. Omitted…\n",
       "  \"PBMC8_30min_patient6_BCR-XL.fcs\"    => 8622×35 DataFrames.DataFrame. Omitted…\n",
       "  \"PBMC8_30min_patient4_Reference.fcs\" => 6906×35 DataFrames.DataFrame. Omitted…\n",
       "  \"PBMC8_30min_patient3_BCR-XL.fcs\"    => 12252×35 DataFrames.DataFrame. Omitte…\n",
       "  \"PBMC8_30min_patient7_Reference.fcs\" => 15974×35 DataFrames.DataFrame. Omitte…\n",
       "  \"PBMC8_30min_patient1_BCR-XL.fcs\"    => 2838×35 DataFrames.DataFrame. Omitted…\n",
       "  \"PBMC8_30min_patient5_Reference.fcs\" => 11962×35 DataFrames.DataFrame. Omitte…\n",
       "  \"PBMC8_30min_patient6_Reference.fcs\" => 11038×35 DataFrames.DataFrame. Omitte…\n",
       "  \"PBMC8_30min_patient7_BCR-XL.fcs\"    => 14770×35 DataFrames.DataFrame. Omitte…\n",
       "  \"PBMC8_30min_patient2_Reference.fcs\" => 16725×35 DataFrames.DataFrame. Omitte…\n",
       "  \"PBMC8_30min_patient3_Reference.fcs\" => 9434×35 DataFrames.DataFrame. Omitted…\n",
       "  \"PBMC8_30min_patient8_BCR-XL.fcs\"    => 11653×35 DataFrames.DataFrame. Omitte…\n",
       "  \"PBMC8_30min_patient4_BCR-XL.fcs\"    => 8990×35 DataFrames.DataFrame. Omitted…"
      ]
     },
     "execution_count": 5,
     "metadata": {},
     "output_type": "execute_result"
    }
   ],
   "source": [
    "fcsRaw = readFlowset(md.file_name)"
   ]
  },
  {
   "cell_type": "markdown",
   "metadata": {},
   "source": [
    "`readFlowset()` is a wrapper function around [FCSFiles.jl](https://github.com/tlnagy/FCSFiles.jl). Please note the current limitations\n",
    "of this package (i.e., the [limit for large files](https://github.com/tlnagy/FCSFiles.jl/blob/master/src/parse.jl#L20)).\n",
    "\n",
    "Clean names to remove problematic characters in the column names:"
   ]
  },
  {
   "cell_type": "code",
   "execution_count": 6,
   "metadata": {},
   "outputs": [],
   "source": [
    "cleanNames!(fcsRaw)"
   ]
  },
  {
   "cell_type": "markdown",
   "metadata": {},
   "source": [
    "Finally, create a `daFrame` that contains the expression data as well as panel\n",
    "and meta-data. It automatically applies a `asinh` tranformation with a cofactor of 5."
   ]
  },
  {
   "cell_type": "code",
   "execution_count": 7,
   "metadata": {},
   "outputs": [
    {
     "name": "stderr",
     "output_type": "stream",
     "text": [
      "┌ Warning: Implicit broadcasting to a new column in DataFrame assignment is deprecated.Use an explicit broadcast with `df[!, col_ind] .= v`\n",
      "│   caller = createDaFrame(::Dict{Any,Any}, ::DataFrames.DataFrame, ::DataFrames.DataFrame) at process.jl:88\n",
      "└ @ GigaSOM /Users/laurent.heirendt/.julia/packages/GigaSOM/QAKEY/src/io/process.jl:88\n"
     ]
    },
    {
     "data": {
      "text/plain": [
       "daFrame(172791×25 DataFrames.DataFrame. Omitted printing of 21 columns\n",
       "│ Row    │ CD3(110:114)Dd │ CD45(In115)Dd │ CD4(Nd145)Dd │ CD20(Sm147)Dd │\n",
       "│        │ \u001b[90mFloat32\u001b[39m        │ \u001b[90mFloat32\u001b[39m       │ \u001b[90mFloat32\u001b[39m      │ \u001b[90mFloat32\u001b[39m       │\n",
       "├────────┼────────────────┼───────────────┼──────────────┼───────────────┤\n",
       "│ 1      │ 0.863966       │ 4.59768       │ -0.157656    │ -0.131486     │\n",
       "│ 2      │ 1.90267        │ 5.88631       │ 2.13232      │ 2.4149        │\n",
       "│ 3      │ 4.96538        │ 6.63111       │ -0.100279    │ 0.993387      │\n",
       "│ 4      │ 2.92577        │ 5.08396       │ -0.0759843   │ 1.50545       │\n",
       "│ 5      │ 4.19087        │ 6.53202       │ 2.49969      │ 2.24803       │\n",
       "│ 6      │ 3.78095        │ 5.96461       │ 1.66088      │ 0.201739      │\n",
       "│ 7      │ -1.04096       │ 5.53396       │ 1.65052      │ 5.1049        │\n",
       "│ 8      │ 4.36623        │ 6.24286       │ 4.87603      │ -0.0164116    │\n",
       "│ 9      │ 1.36755        │ 1.2471        │ 3.8174       │ -0.112002     │\n",
       "│ 10     │ 3.98743        │ 5.44619       │ 4.83482      │ 1.17624       │\n",
       "⋮\n",
       "│ 172781 │ 0.90711        │ 5.54408       │ -0.197069    │ -0.11462      │\n",
       "│ 172782 │ 1.83223        │ 4.4922        │ 3.81046      │ -0.215928     │\n",
       "│ 172783 │ 0.107077       │ 3.83716       │ 0.169585     │ -0.144243     │\n",
       "│ 172784 │ 1.24811        │ 3.83896       │ -0.0242499   │ -0.0531656    │\n",
       "│ 172785 │ -0.568296      │ 3.95064       │ -0.513142    │ 4.48944       │\n",
       "│ 172786 │ -0.163096      │ 4.4963        │ 0.329497     │ -0.187294     │\n",
       "│ 172787 │ -0.483535      │ 4.35172       │ -0.162001    │ -0.0154214    │\n",
       "│ 172788 │ 3.45583        │ 5.47509       │ 4.47387      │ 0.859977      │\n",
       "│ 172789 │ 0.0534078      │ 4.89584       │ -0.178506    │ -0.0734782    │\n",
       "│ 172790 │ 1.49993        │ 5.03604       │ -0.0801966   │ -0.135197     │\n",
       "│ 172791 │ 3.8933         │ 4.76634       │ -0.0687005   │ -0.149238     │, 16×4 DataFrames.DataFrame. Omitted printing of 1 columns\n",
       "│ Row │ file_name                          │ sample_id │ condition │\n",
       "│     │ \u001b[90mAny\u001b[39m                                │ \u001b[90mAny\u001b[39m       │ \u001b[90mAny\u001b[39m       │\n",
       "├─────┼────────────────────────────────────┼───────────┼───────────┤\n",
       "│ 1   │ PBMC8_30min_patient1_BCR-XL.fcs    │ BCRXL1    │ BCRXL     │\n",
       "│ 2   │ PBMC8_30min_patient1_Reference.fcs │ Ref1      │ Ref       │\n",
       "│ 3   │ PBMC8_30min_patient2_BCR-XL.fcs    │ BCRXL2    │ BCRXL     │\n",
       "│ 4   │ PBMC8_30min_patient2_Reference.fcs │ Ref2      │ Ref       │\n",
       "│ 5   │ PBMC8_30min_patient3_BCR-XL.fcs    │ BCRXL3    │ BCRXL     │\n",
       "│ 6   │ PBMC8_30min_patient3_Reference.fcs │ Ref3      │ Ref       │\n",
       "│ 7   │ PBMC8_30min_patient4_BCR-XL.fcs    │ BCRXL4    │ BCRXL     │\n",
       "│ 8   │ PBMC8_30min_patient4_Reference.fcs │ Ref4      │ Ref       │\n",
       "│ 9   │ PBMC8_30min_patient5_BCR-XL.fcs    │ BCRXL5    │ BCRXL     │\n",
       "│ 10  │ PBMC8_30min_patient5_Reference.fcs │ Ref5      │ Ref       │\n",
       "│ 11  │ PBMC8_30min_patient6_BCR-XL.fcs    │ BCRXL6    │ BCRXL     │\n",
       "│ 12  │ PBMC8_30min_patient6_Reference.fcs │ Ref6      │ Ref       │\n",
       "│ 13  │ PBMC8_30min_patient7_BCR-XL.fcs    │ BCRXL7    │ BCRXL     │\n",
       "│ 14  │ PBMC8_30min_patient7_Reference.fcs │ Ref7      │ Ref       │\n",
       "│ 15  │ PBMC8_30min_patient8_BCR-XL.fcs    │ BCRXL8    │ BCRXL     │\n",
       "│ 16  │ PBMC8_30min_patient8_Reference.fcs │ Ref8      │ Ref       │, 33×6 DataFrames.DataFrame\n",
       "│ Row │ Metal  │ Isotope │ Antigen │ fcs_colname     │ Lineage │ Functional │\n",
       "│     │ \u001b[90mString\u001b[39m │ \u001b[90mString\u001b[39m  │ \u001b[90mString\u001b[39m  │ \u001b[90mString\u001b[39m          │ \u001b[90mAny\u001b[39m     │ \u001b[90mAny\u001b[39m        │\n",
       "├─────┼────────┼─────────┼─────────┼─────────────────┼─────────┼────────────┤\n",
       "│ 1   │        │ 110:114 │ CD3     │ CD3(110:114)Dd  │ 1       │ 0          │\n",
       "│ 2   │ In     │ 115     │ CD45    │ CD45(In115)Dd   │ 1       │ 0          │\n",
       "│ 3   │ La     │ 139     │ BC1     │ BC1(La139)Dd    │ 0       │ 0          │\n",
       "│ 4   │ Pr     │ 141     │ BC2     │ BC2(Pr141)Dd    │ 0       │ 0          │\n",
       "│ 5   │ Nd     │ 142     │ pNFkB   │ pNFkB(Nd142)Dd  │ 0       │ 1          │\n",
       "│ 6   │ Nd     │ 144     │ pp38    │ pp38(Nd144)Dd   │ 0       │ 1          │\n",
       "│ 7   │ Nd     │ 145     │ CD4     │ CD4(Nd145)Dd    │ 1       │ 0          │\n",
       "│ 8   │ Nd     │ 146     │ BC3     │ BC3(Nd146)Dd    │ 0       │ 0          │\n",
       "│ 9   │ Sm     │ 147     │ CD20    │ CD20(Sm147)Dd   │ 1       │ 0          │\n",
       "│ 10  │ Nd     │ 148     │ CD33    │ CD33(Nd148)Dd   │ 1       │ 0          │\n",
       "⋮\n",
       "│ 23  │ Er     │ 167     │ pPlcg2  │ pPlcg2(Er167)Dd │ 0       │ 1          │\n",
       "│ 24  │ Er     │ 168     │ pErk    │ pErk(Er168)Dd   │ 0       │ 1          │\n",
       "│ 25  │ Tm     │ 169     │ BC6     │ BC6(Tm169)Dd    │ 0       │ 0          │\n",
       "│ 26  │ Er     │ 170     │ pLat    │ pLat(Er170)Dd   │ 0       │ 1          │\n",
       "│ 27  │ Yb     │ 171     │ IgM     │ IgM(Yb171)Dd    │ 1       │ 0          │\n",
       "│ 28  │ Yb     │ 172     │ pS6     │ pS6(Yb172)Dd    │ 0       │ 1          │\n",
       "│ 29  │ Yb     │ 174     │ HLA-DR  │ HLA-DR(Yb174)Dd │ 1       │ 0          │\n",
       "│ 30  │ Lu     │ 175     │ BC7     │ BC7(Lu175)Dd    │ 0       │ 0          │\n",
       "│ 31  │ Yb     │ 176     │ CD7     │ CD7(Yb176)Dd    │ 1       │ 0          │\n",
       "│ 32  │ Ir     │ 191     │ DNA-1   │ DNA-1(Ir191)Dd  │ 0       │ 0          │\n",
       "│ 33  │ Ir     │ 193     │ DNA-2   │ DNA-2(Ir193)Dd  │ 0       │ 0          │)"
      ]
     },
     "execution_count": 7,
     "metadata": {},
     "output_type": "execute_result"
    }
   ],
   "source": [
    "daf = createDaFrame(fcsRaw, md, panel)"
   ]
  },
  {
   "cell_type": "markdown",
   "metadata": {},
   "source": [
    "## Creating a Self Organizing MAP (SOM)\n",
    "\n",
    "The main advantage of `GigaSOM.jl` is the capability of parallel processing.\n",
    "In order to activate this dependency, please activate the GigaSOM environment:"
   ]
  },
  {
   "cell_type": "code",
   "execution_count": 8,
   "metadata": {},
   "outputs": [
    {
     "name": "stderr",
     "output_type": "stream",
     "text": [
      "┌ Info: activating new environment at ~/work/git/hub/GigaSOM.jl/docs/src/GigaSOM.\n",
      "└ @ Pkg.API /Users/osx/buildbot/slave/package_osx64/build/usr/share/julia/stdlib/v1.1/Pkg/src/API.jl:519\n"
     ]
    },
    {
     "data": {
      "text/plain": [
       "\"/Users/laurent.heirendt/work/git/hub/GigaSOM.jl/docs/src/GigaSOM\""
      ]
     },
     "execution_count": 8,
     "metadata": {},
     "output_type": "execute_result"
    }
   ],
   "source": [
    "import Pkg; Pkg.activate(\"GigaSOM\")"
   ]
  },
  {
   "cell_type": "markdown",
   "metadata": {},
   "source": [
    "Alternatively, on the REPL, you can also activate the `GigaSOM` environment by typing `]`:\n",
    "```julia\n",
    "v(1.1) pkg> activate GigaSOM\n",
    "```"
   ]
  },
  {
   "cell_type": "markdown",
   "metadata": {},
   "source": [
    "Without the explicit declaration of multiple workers, `GigaSOM` will train the SOM grid on a single\n",
    "core. Therefore, we will add some workers and make sure that `GigaSOM` is accessible to\n",
    "all the workers:"
   ]
  },
  {
   "cell_type": "code",
   "execution_count": 9,
   "metadata": {},
   "outputs": [],
   "source": [
    "using Distributed\n",
    "addprocs(2) # the number of workers can be higher than 2\n",
    "@everywhere using GigaSOM"
   ]
  },
  {
   "cell_type": "markdown",
   "metadata": {},
   "source": [
    "We will use only the lineage markers (cell surface) for the training of the SOM map\n",
    "and extract the expression data:"
   ]
  },
  {
   "cell_type": "code",
   "execution_count": 10,
   "metadata": {},
   "outputs": [
    {
     "data": {
      "text/html": [
       "<table class=\"data-frame\"><thead><tr><th></th><th>CD3(110:114)Dd</th><th>CD45(In115)Dd</th><th>CD4(Nd145)Dd</th><th>CD20(Sm147)Dd</th><th>CD33(Nd148)Dd</th><th>CD123(Eu151)Dd</th></tr><tr><th></th><th>Float32</th><th>Float32</th><th>Float32</th><th>Float32</th><th>Float32</th><th>Float32</th></tr></thead><tbody><p>172,791 rows × 10 columns (omitted printing of 4 columns)</p><tr><th>1</th><td>0.863966</td><td>4.59768</td><td>-0.157656</td><td>-0.131486</td><td>1.496</td><td>0.0192691</td></tr><tr><th>2</th><td>1.90267</td><td>5.88631</td><td>2.13232</td><td>2.4149</td><td>0.718917</td><td>-0.174217</td></tr><tr><th>3</th><td>4.96538</td><td>6.63111</td><td>-0.100279</td><td>0.993387</td><td>0.995998</td><td>0.886214</td></tr><tr><th>4</th><td>2.92577</td><td>5.08396</td><td>-0.0759843</td><td>1.50545</td><td>-0.144179</td><td>0.211041</td></tr><tr><th>5</th><td>4.19087</td><td>6.53202</td><td>2.49969</td><td>2.24803</td><td>0.570482</td><td>-0.106751</td></tr><tr><th>6</th><td>3.78095</td><td>5.96461</td><td>1.66088</td><td>0.201739</td><td>0.0156762</td><td>0.28967</td></tr><tr><th>7</th><td>-1.04096</td><td>5.53396</td><td>1.65052</td><td>5.1049</td><td>-0.0939763</td><td>-0.863822</td></tr><tr><th>8</th><td>4.36623</td><td>6.24286</td><td>4.87603</td><td>-0.0164116</td><td>1.24873</td><td>0.414543</td></tr><tr><th>9</th><td>1.36755</td><td>1.2471</td><td>3.8174</td><td>-0.112002</td><td>-0.0941085</td><td>0.44179</td></tr><tr><th>10</th><td>3.98743</td><td>5.44619</td><td>4.83482</td><td>1.17624</td><td>-0.161853</td><td>3.1649</td></tr><tr><th>11</th><td>0.491215</td><td>3.3969</td><td>-0.0973286</td><td>1.44815</td><td>2.10363</td><td>0.710595</td></tr><tr><th>12</th><td>3.29113</td><td>5.53696</td><td>-0.0761106</td><td>-0.0852924</td><td>-0.147134</td><td>-0.0894011</td></tr><tr><th>13</th><td>0.391164</td><td>5.084</td><td>-0.189996</td><td>4.62741</td><td>-0.108741</td><td>-0.297026</td></tr><tr><th>14</th><td>2.34348</td><td>5.54706</td><td>-0.166527</td><td>2.3804</td><td>0.166191</td><td>-0.0387583</td></tr><tr><th>15</th><td>2.20089</td><td>5.86743</td><td>0.0619583</td><td>1.16075</td><td>-0.0757926</td><td>2.14581</td></tr><tr><th>16</th><td>3.39157</td><td>5.79934</td><td>3.03677</td><td>0.5754</td><td>-0.0252033</td><td>-1.44807</td></tr><tr><th>17</th><td>2.49139</td><td>4.54159</td><td>1.99819</td><td>2.65098</td><td>0.18271</td><td>0.731839</td></tr><tr><th>18</th><td>1.77419</td><td>5.29252</td><td>2.07913</td><td>2.1213</td><td>0.54527</td><td>2.82337</td></tr><tr><th>19</th><td>4.21076</td><td>5.48598</td><td>4.68946</td><td>2.23834</td><td>0.157703</td><td>-0.0409706</td></tr><tr><th>20</th><td>1.34281</td><td>6.04369</td><td>2.77003</td><td>1.40473</td><td>-0.177313</td><td>-0.0736867</td></tr><tr><th>21</th><td>4.03355</td><td>6.09835</td><td>4.33682</td><td>0.0585207</td><td>-0.0308316</td><td>-0.124643</td></tr><tr><th>22</th><td>4.31784</td><td>6.15371</td><td>0.338293</td><td>1.43171</td><td>-0.0228252</td><td>0.152519</td></tr><tr><th>23</th><td>2.02134</td><td>6.00962</td><td>-0.0714526</td><td>1.68415</td><td>-0.0962214</td><td>-0.132436</td></tr><tr><th>24</th><td>-0.174358</td><td>4.31894</td><td>-0.0203309</td><td>-0.177097</td><td>-0.192134</td><td>-0.189357</td></tr><tr><th>25</th><td>4.0333</td><td>5.84685</td><td>3.46101</td><td>1.81658</td><td>0.0744277</td><td>0.0189411</td></tr><tr><th>26</th><td>4.12367</td><td>5.98168</td><td>4.93147</td><td>2.50626</td><td>-0.31175</td><td>-0.175012</td></tr><tr><th>27</th><td>1.75073</td><td>5.35504</td><td>0.0458442</td><td>1.77718</td><td>0.703319</td><td>-0.160959</td></tr><tr><th>28</th><td>3.93608</td><td>6.03993</td><td>4.00892</td><td>1.78989</td><td>-0.194665</td><td>-0.177051</td></tr><tr><th>29</th><td>4.44235</td><td>5.84511</td><td>-0.122069</td><td>-0.100323</td><td>-0.0485999</td><td>-0.136472</td></tr><tr><th>30</th><td>3.5706</td><td>6.52926</td><td>4.78116</td><td>-0.0772988</td><td>0.101967</td><td>0.517451</td></tr><tr><th>&vellip;</th><td>&vellip;</td><td>&vellip;</td><td>&vellip;</td><td>&vellip;</td><td>&vellip;</td><td>&vellip;</td></tr></tbody></table>"
      ],
      "text/latex": [
       "\\begin{tabular}{r|ccccccc}\n",
       "\t& CD3(110:114)Dd & CD45(In115)Dd & CD4(Nd145)Dd & CD20(Sm147)Dd & CD33(Nd148)Dd & CD123(Eu151)Dd & \\\\\n",
       "\t\\hline\n",
       "\t& Float32 & Float32 & Float32 & Float32 & Float32 & Float32 & \\\\\n",
       "\t\\hline\n",
       "\t1 & 0.863966 & 4.59768 & -0.157656 & -0.131486 & 1.496 & 0.0192691 & $\\dots$ \\\\\n",
       "\t2 & 1.90267 & 5.88631 & 2.13232 & 2.4149 & 0.718917 & -0.174217 & $\\dots$ \\\\\n",
       "\t3 & 4.96538 & 6.63111 & -0.100279 & 0.993387 & 0.995998 & 0.886214 & $\\dots$ \\\\\n",
       "\t4 & 2.92577 & 5.08396 & -0.0759843 & 1.50545 & -0.144179 & 0.211041 & $\\dots$ \\\\\n",
       "\t5 & 4.19087 & 6.53202 & 2.49969 & 2.24803 & 0.570482 & -0.106751 & $\\dots$ \\\\\n",
       "\t6 & 3.78095 & 5.96461 & 1.66088 & 0.201739 & 0.0156762 & 0.28967 & $\\dots$ \\\\\n",
       "\t7 & -1.04096 & 5.53396 & 1.65052 & 5.1049 & -0.0939763 & -0.863822 & $\\dots$ \\\\\n",
       "\t8 & 4.36623 & 6.24286 & 4.87603 & -0.0164116 & 1.24873 & 0.414543 & $\\dots$ \\\\\n",
       "\t9 & 1.36755 & 1.2471 & 3.8174 & -0.112002 & -0.0941085 & 0.44179 & $\\dots$ \\\\\n",
       "\t10 & 3.98743 & 5.44619 & 4.83482 & 1.17624 & -0.161853 & 3.1649 & $\\dots$ \\\\\n",
       "\t11 & 0.491215 & 3.3969 & -0.0973286 & 1.44815 & 2.10363 & 0.710595 & $\\dots$ \\\\\n",
       "\t12 & 3.29113 & 5.53696 & -0.0761106 & -0.0852924 & -0.147134 & -0.0894011 & $\\dots$ \\\\\n",
       "\t13 & 0.391164 & 5.084 & -0.189996 & 4.62741 & -0.108741 & -0.297026 & $\\dots$ \\\\\n",
       "\t14 & 2.34348 & 5.54706 & -0.166527 & 2.3804 & 0.166191 & -0.0387583 & $\\dots$ \\\\\n",
       "\t15 & 2.20089 & 5.86743 & 0.0619583 & 1.16075 & -0.0757926 & 2.14581 & $\\dots$ \\\\\n",
       "\t16 & 3.39157 & 5.79934 & 3.03677 & 0.5754 & -0.0252033 & -1.44807 & $\\dots$ \\\\\n",
       "\t17 & 2.49139 & 4.54159 & 1.99819 & 2.65098 & 0.18271 & 0.731839 & $\\dots$ \\\\\n",
       "\t18 & 1.77419 & 5.29252 & 2.07913 & 2.1213 & 0.54527 & 2.82337 & $\\dots$ \\\\\n",
       "\t19 & 4.21076 & 5.48598 & 4.68946 & 2.23834 & 0.157703 & -0.0409706 & $\\dots$ \\\\\n",
       "\t20 & 1.34281 & 6.04369 & 2.77003 & 1.40473 & -0.177313 & -0.0736867 & $\\dots$ \\\\\n",
       "\t21 & 4.03355 & 6.09835 & 4.33682 & 0.0585207 & -0.0308316 & -0.124643 & $\\dots$ \\\\\n",
       "\t22 & 4.31784 & 6.15371 & 0.338293 & 1.43171 & -0.0228252 & 0.152519 & $\\dots$ \\\\\n",
       "\t23 & 2.02134 & 6.00962 & -0.0714526 & 1.68415 & -0.0962214 & -0.132436 & $\\dots$ \\\\\n",
       "\t24 & -0.174358 & 4.31894 & -0.0203309 & -0.177097 & -0.192134 & -0.189357 & $\\dots$ \\\\\n",
       "\t25 & 4.0333 & 5.84685 & 3.46101 & 1.81658 & 0.0744277 & 0.0189411 & $\\dots$ \\\\\n",
       "\t26 & 4.12367 & 5.98168 & 4.93147 & 2.50626 & -0.31175 & -0.175012 & $\\dots$ \\\\\n",
       "\t27 & 1.75073 & 5.35504 & 0.0458442 & 1.77718 & 0.703319 & -0.160959 & $\\dots$ \\\\\n",
       "\t28 & 3.93608 & 6.03993 & 4.00892 & 1.78989 & -0.194665 & -0.177051 & $\\dots$ \\\\\n",
       "\t29 & 4.44235 & 5.84511 & -0.122069 & -0.100323 & -0.0485999 & -0.136472 & $\\dots$ \\\\\n",
       "\t30 & 3.5706 & 6.52926 & 4.78116 & -0.0772988 & 0.101967 & 0.517451 & $\\dots$ \\\\\n",
       "\t$\\dots$ & $\\dots$ & $\\dots$ & $\\dots$ & $\\dots$ & $\\dots$ & $\\dots$ &  \\\\\n",
       "\\end{tabular}\n"
      ],
      "text/plain": [
       "172791×10 DataFrames.DataFrame. Omitted printing of 6 columns\n",
       "│ Row    │ CD3(110:114)Dd │ CD45(In115)Dd │ CD4(Nd145)Dd │ CD20(Sm147)Dd │\n",
       "│        │ \u001b[90mFloat32\u001b[39m        │ \u001b[90mFloat32\u001b[39m       │ \u001b[90mFloat32\u001b[39m      │ \u001b[90mFloat32\u001b[39m       │\n",
       "├────────┼────────────────┼───────────────┼──────────────┼───────────────┤\n",
       "│ 1      │ 0.863966       │ 4.59768       │ -0.157656    │ -0.131486     │\n",
       "│ 2      │ 1.90267        │ 5.88631       │ 2.13232      │ 2.4149        │\n",
       "│ 3      │ 4.96538        │ 6.63111       │ -0.100279    │ 0.993387      │\n",
       "│ 4      │ 2.92577        │ 5.08396       │ -0.0759843   │ 1.50545       │\n",
       "│ 5      │ 4.19087        │ 6.53202       │ 2.49969      │ 2.24803       │\n",
       "│ 6      │ 3.78095        │ 5.96461       │ 1.66088      │ 0.201739      │\n",
       "│ 7      │ -1.04096       │ 5.53396       │ 1.65052      │ 5.1049        │\n",
       "│ 8      │ 4.36623        │ 6.24286       │ 4.87603      │ -0.0164116    │\n",
       "│ 9      │ 1.36755        │ 1.2471        │ 3.8174       │ -0.112002     │\n",
       "│ 10     │ 3.98743        │ 5.44619       │ 4.83482      │ 1.17624       │\n",
       "⋮\n",
       "│ 172781 │ 0.90711        │ 5.54408       │ -0.197069    │ -0.11462      │\n",
       "│ 172782 │ 1.83223        │ 4.4922        │ 3.81046      │ -0.215928     │\n",
       "│ 172783 │ 0.107077       │ 3.83716       │ 0.169585     │ -0.144243     │\n",
       "│ 172784 │ 1.24811        │ 3.83896       │ -0.0242499   │ -0.0531656    │\n",
       "│ 172785 │ -0.568296      │ 3.95064       │ -0.513142    │ 4.48944       │\n",
       "│ 172786 │ -0.163096      │ 4.4963        │ 0.329497     │ -0.187294     │\n",
       "│ 172787 │ -0.483535      │ 4.35172       │ -0.162001    │ -0.0154214    │\n",
       "│ 172788 │ 3.45583        │ 5.47509       │ 4.47387      │ 0.859977      │\n",
       "│ 172789 │ 0.0534078      │ 4.89584       │ -0.178506    │ -0.0734782    │\n",
       "│ 172790 │ 1.49993        │ 5.03604       │ -0.0801966   │ -0.135197     │\n",
       "│ 172791 │ 3.8933         │ 4.76634       │ -0.0687005   │ -0.149238     │"
      ]
     },
     "execution_count": 10,
     "metadata": {},
     "output_type": "execute_result"
    }
   ],
   "source": [
    "cc = map(Symbol, lineageMarkers)\n",
    "dfSom = daf.fcstable[:,cc]"
   ]
  },
  {
   "cell_type": "markdown",
   "metadata": {},
   "source": [
    "Initialize the SOM grid by size and expression values:"
   ]
  },
  {
   "cell_type": "code",
   "execution_count": 11,
   "metadata": {
    "scrolled": true
   },
   "outputs": [
    {
     "data": {
      "text/plain": [
       "GigaSOM.Som([0.772605 5.55571 … 0.812848 -0.288866; 1.42088 4.97668 … 1.07725 4.22555; … ; -0.738192 3.88047 … 0.795165 -0.145001; 0.535444 5.25279 … 0.430748 2.74619], [\"CD3(110:114)Dd\", \"CD45(In115)Dd\", \"CD4(Nd145)Dd\", \"CD20(Sm147)Dd\", \"CD33(Nd148)Dd\", \"CD123(Eu151)Dd\", \"CD14(Gd160)Dd\", \"IgM(Yb171)Dd\", \"HLA_DR(Yb174)Dd\", \"CD7(Yb176)Dd\"], 2×10 DataFrames.DataFrame. Omitted printing of 6 columns\n",
       "│ Row │ CD3(110:114)Dd │ CD45(In115)Dd │ CD4(Nd145)Dd │ CD20(Sm147)Dd │\n",
       "│     │ \u001b[90mFloat64\u001b[39m        │ \u001b[90mFloat64\u001b[39m       │ \u001b[90mFloat64\u001b[39m      │ \u001b[90mFloat64\u001b[39m       │\n",
       "├─────┼────────────────┼───────────────┼──────────────┼───────────────┤\n",
       "│ 1   │ 0.0            │ 0.0           │ 0.0          │ 0.0           │\n",
       "│ 2   │ 1.0            │ 1.0           │ 1.0          │ 1.0           │, :none, 10, 10, 100, [0.0 0.0; 1.0 0.0; … ; 8.0 9.0; 9.0 9.0], 100×2 DataFrames.DataFrame\n",
       "│ Row │ X     │ Y     │\n",
       "│     │ \u001b[90mInt64\u001b[39m │ \u001b[90mInt64\u001b[39m │\n",
       "├─────┼───────┼───────┤\n",
       "│ 1   │ 1     │ 1     │\n",
       "│ 2   │ 2     │ 2     │\n",
       "│ 3   │ 3     │ 3     │\n",
       "│ 4   │ 4     │ 4     │\n",
       "│ 5   │ 5     │ 5     │\n",
       "│ 6   │ 6     │ 6     │\n",
       "│ 7   │ 7     │ 7     │\n",
       "│ 8   │ 8     │ 8     │\n",
       "│ 9   │ 9     │ 9     │\n",
       "│ 10  │ 10    │ 10    │\n",
       "⋮\n",
       "│ 90  │ 90    │ 90    │\n",
       "│ 91  │ 91    │ 91    │\n",
       "│ 92  │ 92    │ 92    │\n",
       "│ 93  │ 93    │ 93    │\n",
       "│ 94  │ 94    │ 94    │\n",
       "│ 95  │ 95    │ 95    │\n",
       "│ 96  │ 96    │ 96    │\n",
       "│ 97  │ 97    │ 97    │\n",
       "│ 98  │ 98    │ 98    │\n",
       "│ 99  │ 99    │ 99    │\n",
       "│ 100 │ 100   │ 100   │, :hexagonal, false, [0, 0, 0, 0, 0, 0, 0, 0, 0, 0  …  0, 0, 0, 0, 0, 0, 0, 0, 0, 0])"
      ]
     },
     "execution_count": 11,
     "metadata": {},
     "output_type": "execute_result"
    }
   ],
   "source": [
    "som2 = initGigaSOM(dfSom, 10, 10)"
   ]
  },
  {
   "cell_type": "markdown",
   "metadata": {},
   "source": [
    "Train the SOM grid with the initialized SOM object and define the number of training\n",
    "rounds (also referred to as *epochs*)."
   ]
  },
  {
   "cell_type": "code",
   "execution_count": 12,
   "metadata": {},
   "outputs": [
    {
     "name": "stderr",
     "output_type": "stream",
     "text": [
      "┌ Info: The radius has been determined automatically.\n",
      "└ @ GigaSOM /Users/laurent.heirendt/.julia/packages/GigaSOM/QAKEY/src/core.jl:79\n"
     ]
    },
    {
     "name": "stdout",
     "output_type": "stream",
     "text": [
      "Epoch: 1\n",
      "Radius: 6.463961030678928\n",
      "Epoch: 2\n",
      "Radius: 5.856854249492381\n",
      "Epoch: 3\n",
      "Radius: 5.249747468305833\n",
      "Epoch: 4\n",
      "Radius: 4.642640687119286\n",
      "Epoch: 5\n",
      "Radius: 4.035533905932739\n",
      "Epoch: 6\n",
      "Radius: 3.4284271247461913\n",
      "Epoch: 7\n",
      "Radius: 2.821320343559644\n",
      "Epoch: 8\n",
      "Radius: 2.2142135623730965\n",
      "Epoch: 9\n",
      "Radius: 1.607106781186549\n",
      "Epoch: 10\n",
      "Radius: 1.0000000000000013\n"
     ]
    },
    {
     "data": {
      "text/plain": [
       "GigaSOM.Som([0.648143 5.0357 … 2.59634 0.466907; 0.928678 5.05525 … 2.38048 0.78602; … ; 0.738282 4.70267 … 0.671534 0.777843; 0.92694 4.86462 … 0.568667 0.467445], [\"CD3(110:114)Dd\", \"CD45(In115)Dd\", \"CD4(Nd145)Dd\", \"CD20(Sm147)Dd\", \"CD33(Nd148)Dd\", \"CD123(Eu151)Dd\", \"CD14(Gd160)Dd\", \"IgM(Yb171)Dd\", \"HLA_DR(Yb174)Dd\", \"CD7(Yb176)Dd\"], 2×10 DataFrames.DataFrame. Omitted printing of 6 columns\n",
       "│ Row │ CD3(110:114)Dd │ CD45(In115)Dd │ CD4(Nd145)Dd │ CD20(Sm147)Dd │\n",
       "│     │ \u001b[90mFloat64\u001b[39m        │ \u001b[90mFloat64\u001b[39m       │ \u001b[90mFloat64\u001b[39m      │ \u001b[90mFloat64\u001b[39m       │\n",
       "├─────┼────────────────┼───────────────┼──────────────┼───────────────┤\n",
       "│ 1   │ 0.0            │ 0.0           │ 0.0          │ 0.0           │\n",
       "│ 2   │ 1.0            │ 1.0           │ 1.0          │ 1.0           │, :none, 10, 10, 100, [0.0 0.0; 1.0 0.0; … ; 8.0 9.0; 9.0 9.0], 100×2 DataFrames.DataFrame\n",
       "│ Row │ X     │ Y     │\n",
       "│     │ \u001b[90mInt64\u001b[39m │ \u001b[90mInt64\u001b[39m │\n",
       "├─────┼───────┼───────┤\n",
       "│ 1   │ 1     │ 1     │\n",
       "│ 2   │ 2     │ 2     │\n",
       "│ 3   │ 3     │ 3     │\n",
       "│ 4   │ 4     │ 4     │\n",
       "│ 5   │ 5     │ 5     │\n",
       "│ 6   │ 6     │ 6     │\n",
       "│ 7   │ 7     │ 7     │\n",
       "│ 8   │ 8     │ 8     │\n",
       "│ 9   │ 9     │ 9     │\n",
       "│ 10  │ 10    │ 10    │\n",
       "⋮\n",
       "│ 90  │ 90    │ 90    │\n",
       "│ 91  │ 91    │ 91    │\n",
       "│ 92  │ 92    │ 92    │\n",
       "│ 93  │ 93    │ 93    │\n",
       "│ 94  │ 94    │ 94    │\n",
       "│ 95  │ 95    │ 95    │\n",
       "│ 96  │ 96    │ 96    │\n",
       "│ 97  │ 97    │ 97    │\n",
       "│ 98  │ 98    │ 98    │\n",
       "│ 99  │ 99    │ 99    │\n",
       "│ 100 │ 100   │ 100   │, :hexagonal, false, [0, 0, 0, 0, 0, 0, 0, 0, 0, 0  …  0, 0, 0, 0, 0, 0, 0, 0, 0, 0])"
      ]
     },
     "execution_count": 12,
     "metadata": {},
     "output_type": "execute_result"
    }
   ],
   "source": [
    " som2 = trainGigaSOM(som2, dfSom, epochs = 10)"
   ]
  },
  {
   "cell_type": "markdown",
   "metadata": {},
   "source": [
    "Finally, calculate the winner neurons from the trained SOM object:"
   ]
  },
  {
   "cell_type": "code",
   "execution_count": 13,
   "metadata": {},
   "outputs": [
    {
     "name": "stdout",
     "output_type": "stream",
     "text": [
      "[2, 3]\n"
     ]
    },
    {
     "data": {
      "text/html": [
       "<table class=\"data-frame\"><thead><tr><th></th><th>index</th></tr><tr><th></th><th>Int64</th></tr></thead><tbody><p>172,791 rows × 1 columns</p><tr><th>1</th><td>100</td></tr><tr><th>2</th><td>91</td></tr><tr><th>3</th><td>61</td></tr><tr><th>4</th><td>36</td></tr><tr><th>5</th><td>18</td></tr><tr><th>6</th><td>16</td></tr><tr><th>7</th><td>1</td></tr><tr><th>8</th><td>9</td></tr><tr><th>9</th><td>94</td></tr><tr><th>10</th><td>7</td></tr><tr><th>11</th><td>66</td></tr><tr><th>12</th><td>50</td></tr><tr><th>13</th><td>1</td></tr><tr><th>14</th><td>50</td></tr><tr><th>15</th><td>51</td></tr><tr><th>16</th><td>91</td></tr><tr><th>17</th><td>2</td></tr><tr><th>18</th><td>21</td></tr><tr><th>19</th><td>8</td></tr><tr><th>20</th><td>91</td></tr><tr><th>21</th><td>8</td></tr><tr><th>22</th><td>40</td></tr><tr><th>23</th><td>61</td></tr><tr><th>24</th><td>98</td></tr><tr><th>25</th><td>10</td></tr><tr><th>26</th><td>10</td></tr><tr><th>27</th><td>47</td></tr><tr><th>28</th><td>8</td></tr><tr><th>29</th><td>61</td></tr><tr><th>30</th><td>10</td></tr><tr><th>&vellip;</th><td>&vellip;</td></tr></tbody></table>"
      ],
      "text/latex": [
       "\\begin{tabular}{r|c}\n",
       "\t& index\\\\\n",
       "\t\\hline\n",
       "\t& Int64\\\\\n",
       "\t\\hline\n",
       "\t1 & 100 \\\\\n",
       "\t2 & 91 \\\\\n",
       "\t3 & 61 \\\\\n",
       "\t4 & 36 \\\\\n",
       "\t5 & 18 \\\\\n",
       "\t6 & 16 \\\\\n",
       "\t7 & 1 \\\\\n",
       "\t8 & 9 \\\\\n",
       "\t9 & 94 \\\\\n",
       "\t10 & 7 \\\\\n",
       "\t11 & 66 \\\\\n",
       "\t12 & 50 \\\\\n",
       "\t13 & 1 \\\\\n",
       "\t14 & 50 \\\\\n",
       "\t15 & 51 \\\\\n",
       "\t16 & 91 \\\\\n",
       "\t17 & 2 \\\\\n",
       "\t18 & 21 \\\\\n",
       "\t19 & 8 \\\\\n",
       "\t20 & 91 \\\\\n",
       "\t21 & 8 \\\\\n",
       "\t22 & 40 \\\\\n",
       "\t23 & 61 \\\\\n",
       "\t24 & 98 \\\\\n",
       "\t25 & 10 \\\\\n",
       "\t26 & 10 \\\\\n",
       "\t27 & 47 \\\\\n",
       "\t28 & 8 \\\\\n",
       "\t29 & 61 \\\\\n",
       "\t30 & 10 \\\\\n",
       "\t$\\dots$ & $\\dots$ \\\\\n",
       "\\end{tabular}\n"
      ],
      "text/plain": [
       "172791×1 DataFrames.DataFrame\n",
       "│ Row    │ index │\n",
       "│        │ \u001b[90mInt64\u001b[39m │\n",
       "├────────┼───────┤\n",
       "│ 1      │ 100   │\n",
       "│ 2      │ 91    │\n",
       "│ 3      │ 61    │\n",
       "│ 4      │ 36    │\n",
       "│ 5      │ 18    │\n",
       "│ 6      │ 16    │\n",
       "│ 7      │ 1     │\n",
       "│ 8      │ 9     │\n",
       "│ 9      │ 94    │\n",
       "│ 10     │ 7     │\n",
       "⋮\n",
       "│ 172781 │ 69    │\n",
       "│ 172782 │ 18    │\n",
       "│ 172783 │ 21    │\n",
       "│ 172784 │ 58    │\n",
       "│ 172785 │ 1     │\n",
       "│ 172786 │ 77    │\n",
       "│ 172787 │ 77    │\n",
       "│ 172788 │ 10    │\n",
       "│ 172789 │ 67    │\n",
       "│ 172790 │ 59    │\n",
       "│ 172791 │ 35    │"
      ]
     },
     "execution_count": 13,
     "metadata": {},
     "output_type": "execute_result"
    }
   ],
   "source": [
    "winners = mapToGigaSOM(som2, dfSom)"
   ]
  }
 ],
 "metadata": {
  "kernelspec": {
   "display_name": "Julia 1.1.0",
   "language": "julia",
   "name": "julia-1.1"
  },
  "language_info": {
   "file_extension": ".jl",
   "mimetype": "application/julia",
   "name": "julia",
   "version": "1.1.0"
  }
 },
 "nbformat": 4,
 "nbformat_minor": 2
}
